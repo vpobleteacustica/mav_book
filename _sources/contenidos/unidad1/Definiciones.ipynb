{
 "cells": [
  {
   "cell_type": "markdown",
   "metadata": {},
   "source": [
    "# Definiciones\n",
    "\n",
    "## Objetivos"
   ]
  },
  {
   "cell_type": "markdown",
   "metadata": {},
   "source": [
    "El programa tiene como principal objetivo formar postgraduados especialistas, que cuenten con conocimiento avanzado en el campo de acústica y vibraciones*, mediante la entrega de conceptos teóricos, actividades prácticas de laboratorios, estudio individual guiado y el desarrollo de una tesis de magíster. La tesis debe tener un carácter de originalidad en el tema o en la metodología y capacitará al graduado del programa para el perfeccionamiento, para la innovación tecnológica y para el desarrollo de investigación científica con un alto grado de independencia.\n",
    "\n",
    "El programa entrega una formación apropiada tanto como para proseguir estudios doctorales como para proyectar y desarrollar actividades profesionales avanzadas en el desarrollo científico y tecnológico en acústica y vibraciones.\n",
    "\n",
    "> <sup>*</sup> El alcance disciplinar del programa se establece en la ***acústica*** como ciencia que estudia el sonido y vibraciones como fenómeno físico vinculado con el sonido."
   ]
  },
  {
   "cell_type": "markdown",
   "metadata": {},
   "source": [
    "## Perfil de graduación\n",
    "\n",
    "Al finalizar el programa el graduado estará en condiciones de:\n",
    "\n",
    "a) Conocer en profundidad los principales tópicos de acústica y vibraciones, tanto en sus aspectos teóricos como experimentales, permitiéndole manejar las aplicaciones prácticas de las mismas, particularmente en aquellas relacionadas con su interés académico.\n",
    "\n",
    "b) Modelar, analizar y predecir el comportamiento de sistemas acústicos y vibratorios de alta complejidad, resolver problemas prácticos proponiendo soluciones innovadoras y sustentables, a partir de un proceso de investigación científica, desarrollada de acuerdo a los procedimientos y exigencias que imponen las técnicas modernas en el área."
   ]
  },
  {
   "cell_type": "markdown",
   "metadata": {},
   "source": [
    "## Principales líneas de investigación o áreas de desarrollo\n",
    "\n",
    "El programa contempla dos líneas de investigación: i) acústica y ii) vibraciones. \n",
    "\n",
    "**Acústica**: Esta línea estudia modelar, analizar y predecir el comportamiento de sistemas acústicos de alta complejidad, resolver problemas prácticos proponiendo soluciones innovadoras y sustentables, a partir de un proceso de investigación científica, desarrollada de acuerdo a los procedimientos y exigencias que imponen las técnicas modernas en acústica. Se incluyen en esta área las sublíneas de instrumentación y sensores acústicos, acústica forense, análisis de señales acústicas, acústica ambiental, acústica musical, comportamiento de materiales acústicos, modelamiento acústico, y acústica de salas.\n",
    "\n",
    "**Vibraciones**: Esta línea estudia modelar, analizar y predecir el comportamiento de sistemas vibratorios de alta complejidad, resolver problemas prácticos proponiendo soluciones innovadoras y sustentables, a partir de un proceso de investigación científica, desarrollada de acuerdo a los procedimientos y exigencias que imponen las técnicas modernas en vibraciones. Se incluyen en esta área las sublíneas de instrumentación y sensores en vibraciones, análisis de señales vibratorias, modelamiento numérico de vibraciones, comportamiento y propiedades vibratorias de materiales y diseño mecánico-vibratorio de materiales."
   ]
  }
 ],
 "metadata": {
  "kernelspec": {
   "display_name": "pedro",
   "language": "python",
   "name": "pedro"
  },
  "language_info": {
   "codemirror_mode": {
    "name": "ipython",
    "version": 3
   },
   "file_extension": ".py",
   "mimetype": "text/x-python",
   "name": "python",
   "nbconvert_exporter": "python",
   "pygments_lexer": "ipython3",
   "version": "3.8.10"
  }
 },
 "nbformat": 4,
 "nbformat_minor": 4
}
