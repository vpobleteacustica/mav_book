{
 "cells": [
  {
   "cell_type": "markdown",
   "metadata": {},
   "source": [
    "# Definiciones"
   ]
  },
  {
   "cell_type": "markdown",
   "metadata": {},
   "source": [
    "<font size=\"2\" face=\"Arial\" >\n",
    "<table align=\"left\" style=\"width:95%\" border=\"1\">\n",
    "  <tr style=\"outline: thin solid\">\n",
    "  <td colspan=\"2\"><div style=\"text-align: left; \"><strong>2. DEFINICIONES</strong></div>\n",
    "</td>\n",
    "</tr>  \n",
    "<tbody>\n",
    " <tr style=\"outline: thin solid\">\n",
    "     <td colspan=\"2\" word-wrap:break-word;><div style=\"text-align: left; \"><strong>Objetivos</strong></div><div style=\"text-align: left; \"></div><br><div style=\"text-align: justify; \">El programa tiene como principal objetivo formar postgraduados especialistas, que cuenten con conocimiento avanzado en el campo de acústica y vibraciones*, mediante la entrega de conceptos teóricos, actividades prácticas de laboratorios, estudio individual guiado y el desarrollo de una tesis de magíster. La tesis debe tener un carácter de originalidad en el tema o en la metodología y capacitará al graduado del programa para el perfeccionamiento, para la innovación tecnológica y para el desarrollo de investigación científica con un alto grado de independencia.</div><br>\n",
    "<div style=\"text-align: justify; \">El programa entrega una formación apropiada tanto como para proseguir estudios doctorales como para proyectar y desarrollar actividades profesionales avanzadas en el desarrollo científico y tecnológico en acústica y vibraciones.</div>\n",
    "</td>\n",
    "</tr>\n",
    "<tr style=\"outline: thin solid\">\n",
    "  <td colspan=\"2\"><div style=\"text-align: justify; \"><sup>*</sup> El alcance disciplinar del programa se establece en la acústica como ciencia que estudia el sonido y vibraciones como fenómeno físico vinculado con el sonido.</div>\n",
    "</td>\n",
    " </tbody>\n",
    "</table>\n",
    "<br/>\n",
    "<br/>\n",
    "<br/>\n",
    "<br/>\n",
    "<br/>\n",
    "<br/>\n",
    "<br/>\n",
    "<br/>\n",
    "<br/>\n",
    "<br/>\n",
    "<br/>\n",
    "<br/>\n",
    "<br/>"
   ]
  },
  {
   "cell_type": "markdown",
   "metadata": {},
   "source": [
    "<font size=\"2\" face=\"Arial\" >\n",
    "<table align=\"left\" style=\"width:95%\" border=\"1\">\n",
    "    \n",
    "<tbody>\n",
    " <tr style=\"outline: thin solid\">\n",
    "     <td colspan=\"2\" word-wrap:break-word;><div style=\"text-align: left; \"><strong>Perfil de graduación</strong></div><div style=\"text-align: left; \"></div><br><div style=\"text-align: justify; \">Al finalizar el programa el graduado estará en condiciones de:</div><br>\n",
    "<ol type=\"a\">\n",
    "   <li> <div style=\"text-align: justify; \">Conocer en profundidad los principales tópicos de acústica y vibraciones, tanto en sus aspectos teóricos como experimentales, permitiéndole manejar las aplicaciones prácticas de las mismas, particularmente en aquellas relacionadas con su interés académico.</div><br>\n",
    "   <li> <div style=\"text-align: justify; \">Modelar, analizar y predecir el comportamiento de sistemas acústicos y vibratorios de alta complejidad, resolver problemas prácticos proponiendo soluciones innovadoras y sustentables, a partir de un proceso de investigación científica, desarrollada de acuerdo a los procedimientos y exigencias que imponen las técnicas modernas en el área.</div>   \n",
    "</ol>\n",
    "</td>\n",
    "</tr>\n",
    "\n",
    " </tbody>\n",
    "</table>\n",
    "<br/>\n",
    "<br/>\n",
    "<br/>\n",
    "<br/>\n",
    "<br/>\n",
    "<br/>\n",
    "<br/>\n",
    "<br/>\n",
    "<br/>\n",
    "<br/>\n",
    "<br/>\n",
    "<br/>"
   ]
  },
  {
   "cell_type": "markdown",
   "metadata": {},
   "source": [
    "<font size=\"2\" face=\"Arial\" >\n",
    "<table align=\"left\" style=\"width:95%\" border=\"1\">\n",
    "    \n",
    "<tbody>\n",
    " <tr style=\"outline: thin solid\">\n",
    "     <td colspan=\"2\" word-wrap:break-word;><div style=\"text-align: left; \"><strong>Principales líneas de investigación o áreas de desarrollo</strong></div><div style=\"text-align: left; \"></div><br><div style=\"text-align: justify; \">El programa contempla dos líneas de investigación: i) acústica y ii) vibraciones. </div><br>\n",
    "<ol type=\"a\">\n",
    "    <li> <div style=\"text-align: justify; \"><strong><em>Acústica:</em></strong> Esta línea estudia modelar, analizar y predecir el comportamiento de sistemas acústicos de alta complejidad, resolver problemas prácticos proponiendo soluciones innovadoras y sustentables, a partir de un proceso de investigación científica, desarrollada de acuerdo a los procedimientos y exigencias que imponen las técnicas modernas en acústica. Se incluyen en esta área las sublíneas de instrumentación y sensores acústicos, acústica forense, análisis de señales acústicas, acústica ambiental, acústica musical, comportamiento de materiales acústicos, modelamiento acústico, y acústica de salas.</div><br>\n",
    "        \n",
    "   <li> <div style=\"text-align: justify; \"><strong><em>Vibraciones:</em></strong> Esta línea estudia modelar, analizar y predecir el comportamiento de sistemas vibratorios de alta complejidad, resolver problemas prácticos proponiendo soluciones innovadoras y sustentables, a partir de un proceso de investigación científica, desarrollada de acuerdo a los procedimientos y exigencias que imponen las técnicas modernas en vibraciones. Se incluyen en esta área las sublíneas de instrumentación y sensores en vibraciones, análisis de señales vibratorias, modelamiento numérico de vibraciones, comportamiento y propiedades vibratorias de materiales y diseño mecánico-vibratorio de materiales.</div>   \n",
    "</ol>\n",
    "</td>\n",
    "</tr>\n",
    "\n",
    " </tbody>\n",
    "</table>\n",
    "<br/>\n",
    "<br/>\n",
    "<br/>\n",
    "<br/>\n",
    "<br/>\n",
    "<br/>\n",
    "<br/>\n",
    "<br/>\n",
    "<br/>\n",
    "<br/>\n",
    "<br/>\n",
    "<br/>\n",
    "<br/>\n",
    "<br/>\n",
    "<br/>\n",
    "<br/>\n",
    "<br/>\n",
    "<br/>\n",
    "<br/>\n",
    "<br/>"
   ]
  }
 ],
 "metadata": {
  "kernelspec": {
   "display_name": "pedro",
   "language": "python",
   "name": "pedro"
  },
  "language_info": {
   "codemirror_mode": {
    "name": "ipython",
    "version": 3
   },
   "file_extension": ".py",
   "mimetype": "text/x-python",
   "name": "python",
   "nbconvert_exporter": "python",
   "pygments_lexer": "ipython3",
   "version": "3.8.10"
  }
 },
 "nbformat": 4,
 "nbformat_minor": 4
}
